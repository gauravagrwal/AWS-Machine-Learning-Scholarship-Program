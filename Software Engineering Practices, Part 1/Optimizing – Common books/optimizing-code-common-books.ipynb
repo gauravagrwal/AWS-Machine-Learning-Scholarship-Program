{
 "cells": [
  {
   "cell_type": "markdown",
   "source": [
    "# Optimizing Code: Common Books\n",
    "Here's the code your coworker wrote to find the common book ids in `books_published_last_two_years.txt` and `all_coding_books.txt` to obtain a list of recent coding books."
   ],
   "metadata": {}
  },
  {
   "cell_type": "code",
   "execution_count": null,
   "source": [
    "import time\r\n",
    "import pandas as pd\r\n",
    "import numpy as np"
   ],
   "outputs": [],
   "metadata": {}
  },
  {
   "cell_type": "code",
   "execution_count": null,
   "source": [
    "with open('books_published_last_two_years.txt') as f:\r\n",
    "    recent_books = f.read().split('\\n')\r\n",
    "    \r\n",
    "with open('all_coding_books.txt') as f:\r\n",
    "    coding_books = f.read().split('\\n')"
   ],
   "outputs": [],
   "metadata": {}
  },
  {
   "cell_type": "code",
   "execution_count": null,
   "source": [
    "start = time.time()\r\n",
    "recent_coding_books = []\r\n",
    "\r\n",
    "for book in recent_books:\r\n",
    "    if book in coding_books:\r\n",
    "        recent_coding_books.append(book)\r\n",
    "\r\n",
    "print(len(recent_coding_books))\r\n",
    "print('Duration: {} seconds'.format(time.time() - start))"
   ],
   "outputs": [],
   "metadata": {}
  },
  {
   "cell_type": "markdown",
   "source": [
    "### Tip #1: Use vector operations over loops when possible\n",
    "\n",
    "Use numpy's `intersect1d` method to get the intersection of the `recent_books` and `coding_books` arrays."
   ],
   "metadata": {}
  },
  {
   "cell_type": "code",
   "execution_count": null,
   "source": [
    "start = time.time()\r\n",
    "recent_coding_books =  np.intersect1d(recent_books, coding_books)\r\n",
    "print(len(recent_coding_books))\r\n",
    "print('Duration: {} seconds'.format(time.time() - start))"
   ],
   "outputs": [],
   "metadata": {}
  },
  {
   "cell_type": "markdown",
   "source": [
    "### Tip #2: Know your data structures and which methods are faster\n",
    "Use the set's `intersection` method to get the common elements in `recent_books` and `coding_books`."
   ],
   "metadata": {}
  },
  {
   "cell_type": "code",
   "execution_count": null,
   "source": [
    "start = time.time()\r\n",
    "recent_coding_books  = set(recent_books).intersection(coding_books)\r\n",
    "print(len(recent_coding_books))\r\n",
    "print('Duration: {} seconds'.format(time.time() - start))"
   ],
   "outputs": [],
   "metadata": {}
  }
 ],
 "metadata": {
  "kernelspec": {
   "name": "python3",
   "display_name": "Python 3.9.7 64-bit (windows store)"
  },
  "language_info": {
   "codemirror_mode": {
    "name": "ipython",
    "version": 3
   },
   "file_extension": ".py",
   "mimetype": "text/x-python",
   "name": "python",
   "nbconvert_exporter": "python",
   "pygments_lexer": "ipython3",
   "version": "3.9.7"
  },
  "interpreter": {
   "hash": "8503342d9eeec26ce4bf8f6a6962ff88ebcb685c7596c9eb2c2e97dd27434c9a"
  }
 },
 "nbformat": 4,
 "nbformat_minor": 2
}