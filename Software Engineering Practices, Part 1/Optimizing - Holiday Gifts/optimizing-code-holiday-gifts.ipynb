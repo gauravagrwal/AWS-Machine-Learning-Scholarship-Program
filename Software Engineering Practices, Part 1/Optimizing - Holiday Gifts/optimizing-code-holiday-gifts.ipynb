{
 "cells": [
  {
   "cell_type": "markdown",
   "source": [
    "# Optimizing Code: Holiday Gifts\n",
    "In the last example, you learned that using vectorized operations and more efficient data structures can optimize your code. Let's use these tips for one more example.\n",
    "\n",
    "Say your online gift store has one million users that each listed a gift on a wish list. You have the prices for each of these gifts stored in `gift_costs.txt`. For the holidays, you're going to give each customer their wish list gift for free if it is under 25 dollars. Now, you want to calculate the total cost of all gifts under 25 dollars to see how much you'd spend on free gifts. Here's one way you could've done it."
   ],
   "metadata": {}
  },
  {
   "cell_type": "code",
   "execution_count": null,
   "source": [
    "import time\r\n",
    "import numpy as np"
   ],
   "outputs": [],
   "metadata": {}
  },
  {
   "cell_type": "code",
   "execution_count": null,
   "source": [
    "with open('gift_costs.txt') as f:\r\n",
    "    gift_costs = f.read().split('\\n')\r\n",
    "    \r\n",
    "gift_costs = np.array(gift_costs).astype(int)  # convert string to int"
   ],
   "outputs": [],
   "metadata": {}
  },
  {
   "cell_type": "code",
   "execution_count": null,
   "source": [
    "start = time.time()\r\n",
    "\r\n",
    "total_price = 0\r\n",
    "for cost in gift_costs:\r\n",
    "    if cost < 25:\r\n",
    "        total_price += cost * 1.08  # add cost after tax\r\n",
    "\r\n",
    "print(total_price)\r\n",
    "print('Duration: {} seconds'.format(time.time() - start))"
   ],
   "outputs": [],
   "metadata": {}
  },
  {
   "cell_type": "markdown",
   "source": [
    "Here you iterate through each cost in the list, and check if it's less than 25. If so, you add the cost to the total price after tax. This works, but there is a much faster way to do this. Can you refactor this to run under half a second?"
   ],
   "metadata": {}
  },
  {
   "cell_type": "markdown",
   "source": [
    "## Refactor Code\n",
    "**Hint:** Using numpy makes it very easy to select all the elements in an array that meet a certain condition, and then perform operations on them together all at once. You can them find the sum of what those values end up being."
   ],
   "metadata": {}
  },
  {
   "cell_type": "code",
   "execution_count": null,
   "source": [
    "start = time.time()\r\n",
    "\r\n",
    "total_price =  gift_costs[gift_costs < 25].sum() * 1.08\r\n",
    "\r\n",
    "print(total_price)\r\n",
    "print('Duration: {} seconds'.format(time.time() - start))"
   ],
   "outputs": [],
   "metadata": {}
  }
 ],
 "metadata": {
  "kernelspec": {
   "name": "python3",
   "display_name": "Python 3.9.7 64-bit"
  },
  "language_info": {
   "codemirror_mode": {
    "name": "ipython",
    "version": 3
   },
   "file_extension": ".py",
   "mimetype": "text/x-python",
   "name": "python",
   "nbconvert_exporter": "python",
   "pygments_lexer": "ipython3",
   "version": "3.9.7"
  },
  "interpreter": {
   "hash": "fe44fef87f92f48a3a32707d0df204585f471652bc0ce87358a3ce712bc24db0"
  }
 },
 "nbformat": 4,
 "nbformat_minor": 2
}